{
 "cells": [
  {
   "cell_type": "code",
   "execution_count": 8,
   "metadata": {},
   "outputs": [
    {
     "name": "stdout",
     "output_type": "stream",
     "text": [
      "<think>\n",
      "Okay, so I need to help the user by summarizing a radiology observation. The user mentioned that the observations are from transcribed audio, so there might be some errors. I should keep it short and concise.\n",
      "\n",
      "Looking at the input: \"Sin evidencia de alteraciones en las estructuras valoradas por este método.\" That translates to \"No evidence of alterations in the structures evaluated by this method.\" \n",
      "\n",
      "I should make sure the summary is clear and accurate despite any possible transcription errors. Maybe I can rephrase it to be more direct. How about \"No se observan alteraciones en las estructuras evaluadas.\" That means \"No alterations are observed in the evaluated structures.\" It's concise and captures the main point.\n",
      "\n",
      "I think that's a good summary. It's short, clear, and covers the essential information without extra details.\n",
      "</think>\n",
      "\n",
      "No se observan alteraciones en las estructuras evaluadas.\n",
      "No se observan alteraciones en las estructuras evaluadas.\n"
     ]
    }
   ],
   "source": [
    "from groq import Groq\n",
    "import os\n",
    "\n",
    "client = Groq(\n",
    "    api_key=os.environ.get(\"GROQ_API_KEY\"),\n",
    ")\n",
    "\n",
    "chat_completion = client.chat.completions.create(\n",
    "    messages=[\n",
    "        {\n",
    "            \"role\": \"system\",\n",
    "            \"content\": \"\"\"Eres un asistente de radiologia que resume estudios o observaciones de radiologia.\n",
    "            tenga encuenta que las observaciones son de audios transcritos entonces puede que tengan errores de transcripción.\n",
    "            Solo dame una frase corta y concisa que resuma la observación.\n",
    "                \"\"\",\n",
    "        },\n",
    "        {\n",
    "            \"role\": \"user\",\n",
    "            \"content\": \"Sin evidencia de alteraciones en las estructuras valoradas por este método.\",\n",
    "        }\n",
    "    ],\n",
    "    model=\"deepseek-r1-distill-llama-70b\",\n",
    "    stream=False,\n",
    "    temperature=0,\n",
    ")\n",
    "\n",
    "print(chat_completion.choices[0].message.content)\n",
    "\n",
    "answer = chat_completion.choices[0].message.content.split(\"</think>\")[-1].strip()\n",
    "print(answer)\n"
   ]
  }
 ],
 "metadata": {
  "kernelspec": {
   "display_name": "med_speech_summarization",
   "language": "python",
   "name": "python3"
  },
  "language_info": {
   "codemirror_mode": {
    "name": "ipython",
    "version": 3
   },
   "file_extension": ".py",
   "mimetype": "text/x-python",
   "name": "python",
   "nbconvert_exporter": "python",
   "pygments_lexer": "ipython3",
   "version": "3.10.12"
  }
 },
 "nbformat": 4,
 "nbformat_minor": 2
}
