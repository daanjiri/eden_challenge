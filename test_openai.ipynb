{
 "cells": [
  {
   "cell_type": "code",
   "execution_count": 30,
   "metadata": {},
   "outputs": [],
   "source": [
    "from openai import OpenAI\n",
    "client = OpenAI()\n",
    "\n",
    "# file_path = \"audio_raw/f8f3b092-3621-4e10-a800-c232e1d5f49e_3fab06a5-c6d5-47eb-a174-173817ad0abd.mp3\"\n",
    "# audio_file = open(file_path, \"rb\")\n",
    "# transcription = client.audio.transcriptions.create(\n",
    "#   file=audio_file,\n",
    "#   model=\"gpt-4o-mini-transcribe\",\n",
    "#   language=\"es\",\n",
    "#   prompt=\"Actua como un radiologo que traduce audio de radiologia.\"\n",
    "# )\n",
    "# transcription.text\n"
   ]
  },
  {
   "cell_type": "code",
   "execution_count": 31,
   "metadata": {},
   "outputs": [],
   "source": [
    "import os\n",
    "from tqdm import tqdm\n",
    "\n",
    "def transcribe_all_audios(input_folder=\"audio_raw\", output_folder=\"transcriptions\", language=\"es\"):\n",
    "    \"\"\"\n",
    "    Transcribe all MP3 files in the input_folder and save the transcriptions to output_folder\n",
    "    \n",
    "    Args:\n",
    "        input_folder: Folder containing MP3 files\n",
    "        output_folder: Folder to save transcription text files\n",
    "        language: Language code for transcription\n",
    "    \"\"\"\n",
    "    # Create output folder if it doesn't exist\n",
    "    if not os.path.exists(output_folder):\n",
    "        os.makedirs(output_folder)\n",
    "    \n",
    "    # Get all MP3 files\n",
    "    audio_files = [f for f in os.listdir(input_folder) if f.endswith('.mp3')]\n",
    "    \n",
    "    for filename in tqdm(audio_files, desc=\"Transcribing audios\"):\n",
    "        try:\n",
    "            # Open audio file\n",
    "            file_path = os.path.join(input_folder, filename)\n",
    "            with open(file_path, \"rb\") as audio_file:\n",
    "                # Transcribe audio\n",
    "                transcription = client.audio.transcriptions.create(\n",
    "                    file=audio_file,\n",
    "                    model=\"gpt-4o-transcribe\",\n",
    "                    language=language,\n",
    "                    prompt=\"Actua como un radiologo que traduce audio de radiologia.\"\n",
    "                )\n",
    "            \n",
    "            # Save transcription to text file\n",
    "            output_file = os.path.join(output_folder, filename.replace('.mp3', '.txt'))\n",
    "            with open(output_file, 'w', encoding='utf-8') as f:\n",
    "                f.write(transcription.text)\n",
    "                \n",
    "        except Exception as e:\n",
    "            error_message = f\"Error processing {filename}: {e}\"\n",
    "            print(error_message)\n",
    "            \n",
    "            # Create error folder if it doesn't exist\n",
    "            error_folder = os.path.join(output_folder, \"transcription_errors\")\n",
    "            if not os.path.exists(error_folder):\n",
    "                os.makedirs(error_folder)\n",
    "            \n",
    "            # Save the error message to a file in the error folder\n",
    "            error_file = os.path.join(error_folder, filename.replace('.mp3', '.txt'))\n",
    "            with open(error_file, 'w', encoding='utf-8') as f:\n",
    "                f.write(f\"TRANSCRIPTION ERROR: {error_message}\")\n"
   ]
  },
  {
   "cell_type": "code",
   "execution_count": 32,
   "metadata": {},
   "outputs": [
    {
     "name": "stderr",
     "output_type": "stream",
     "text": [
      "Transcribing audios:  97%|█████████▋| 4147/4284 [2:36:14<14:37,  6.41s/it]  "
     ]
    },
    {
     "name": "stdout",
     "output_type": "stream",
     "text": [
      "Error processing 782c1caa-d297-4a1e-afea-bdc2d9eff16b.mp3: Error code: 400 - {'error': {'message': 'audio duration 2355.648 seconds is longer than 1500 seconds which is the maximum for this model', 'type': 'invalid_request_error', 'param': None, 'code': 'invalid_value'}}\n"
     ]
    },
    {
     "name": "stderr",
     "output_type": "stream",
     "text": [
      "Transcribing audios: 100%|██████████| 4284/4284 [2:41:32<00:00,  2.26s/it]\n"
     ]
    }
   ],
   "source": [
    "# Example usage\n",
    "transcribe_all_audios()"
   ]
  }
 ],
 "metadata": {
  "kernelspec": {
   "display_name": "med_speech_summarization",
   "language": "python",
   "name": "python3"
  },
  "language_info": {
   "codemirror_mode": {
    "name": "ipython",
    "version": 3
   },
   "file_extension": ".py",
   "mimetype": "text/x-python",
   "name": "python",
   "nbconvert_exporter": "python",
   "pygments_lexer": "ipython3",
   "version": "3.10.12"
  }
 },
 "nbformat": 4,
 "nbformat_minor": 2
}
